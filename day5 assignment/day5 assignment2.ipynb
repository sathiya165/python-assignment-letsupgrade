{
 "cells": [
  {
   "cell_type": "code",
   "execution_count": 2,
   "metadata": {},
   "outputs": [
    {
     "name": "stdout",
     "output_type": "stream",
     "text": [
      "[10, 20, 40, 60, 70, 80, 5]\n",
      "[10, 20, 40, 60, 70, 80, 5, 15]\n",
      "[10, 20, 40, 60, 70, 80, 5, 15, 25]\n",
      "[10, 20, 40, 60, 70, 80, 5, 15, 25, 35]\n",
      "[10, 20, 40, 60, 70, 80, 5, 15, 25, 35, 45]\n",
      "[10, 20, 40, 60, 70, 80, 5, 15, 25, 35, 45, 60]\n"
     ]
    }
   ],
   "source": [
    "list1=[10,20,40,60,70,80]\n",
    "list2=[5,15,25,35,45,60]\n",
    "for x in list2:\n",
    "    list1.append(x)\n",
    "    print(list1)"
   ]
  },
  {
   "cell_type": "code",
   "execution_count": 3,
   "metadata": {},
   "outputs": [
    {
     "name": "stdout",
     "output_type": "stream",
     "text": [
      "[10, 20, 40, 60, 70, 80, 5, 15, 25, 35, 45, 60, 5, 15, 25, 35, 45, 60]\n"
     ]
    }
   ],
   "source": [
    "list1.extend(list2)\n",
    "print(list1)"
   ]
  },
  {
   "cell_type": "code",
   "execution_count": 4,
   "metadata": {},
   "outputs": [
    {
     "name": "stdout",
     "output_type": "stream",
     "text": [
      "[10, 20, 40, 60, 70, 80, 5, 15, 25, 35, 45, 60, 5, 15, 25, 35, 45, 60, 5, 15, 25, 35, 45, 60]\n"
     ]
    }
   ],
   "source": [
    "list3=list1+list2\n",
    "print(list3)"
   ]
  },
  {
   "cell_type": "code",
   "execution_count": null,
   "metadata": {},
   "outputs": [],
   "source": []
  }
 ],
 "metadata": {
  "kernelspec": {
   "display_name": "Python 3",
   "language": "python",
   "name": "python3"
  },
  "language_info": {
   "codemirror_mode": {
    "name": "ipython",
    "version": 3
   },
   "file_extension": ".py",
   "mimetype": "text/x-python",
   "name": "python",
   "nbconvert_exporter": "python",
   "pygments_lexer": "ipython3",
   "version": "3.7.6"
  }
 },
 "nbformat": 4,
 "nbformat_minor": 4
}
